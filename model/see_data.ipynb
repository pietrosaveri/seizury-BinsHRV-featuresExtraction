{
 "cells": [
  {
   "cell_type": "code",
   "execution_count": 1,
   "id": "e24078df",
   "metadata": {},
   "outputs": [],
   "source": [
    "import h5py\n",
    "f = h5py.File(\"/Volumes/Seizury/HRV/sequences/train_sequences.h5\")"
   ]
  },
  {
   "cell_type": "code",
   "execution_count": 2,
   "id": "5680ef82",
   "metadata": {},
   "outputs": [
    {
     "name": "stdout",
     "output_type": "stream",
     "text": [
      "Keys: ['X', 'final_masks', 'recordings', 'subjects', 'timestamps', 'y']\n"
     ]
    }
   ],
   "source": [
    "import h5py\n",
    "\n",
    "# Print all groups (like folders in the file)\n",
    "print(\"Keys:\", list(f.keys()))"
   ]
  },
  {
   "cell_type": "code",
   "execution_count": 10,
   "id": "5a8e9b2f",
   "metadata": {},
   "outputs": [
    {
     "data": {
      "text/plain": [
       "'{\"0\": 1.3432992854238983, \"1\": 1.0002183960234226, \"2\": 1.1403999043732724, \"3\": 1.0461928139500827}'"
      ]
     },
     "execution_count": 10,
     "metadata": {},
     "output_type": "execute_result"
    }
   ],
   "source": [
    "class_weights_str = f.attrs['class_weights']\n",
    "class_weights_str"
   ]
  },
  {
   "cell_type": "code",
   "execution_count": 3,
   "id": "7a039303",
   "metadata": {},
   "outputs": [
    {
     "name": "stdout",
     "output_type": "stream",
     "text": [
      "X -> <HDF5 dataset \"X\": shape (2574, 60, 22), type \"<f4\">\n",
      "final_masks -> <HDF5 dataset \"final_masks\": shape (2574, 60), type \"|b1\">\n",
      "recordings -> <HDF5 dataset \"recordings\": shape (2574,), type \"|O\">\n",
      "subjects -> <HDF5 dataset \"subjects\": shape (2574,), type \"|O\">\n",
      "timestamps -> <HDF5 dataset \"timestamps\": shape (2574, 60), type \"<f8\">\n",
      "y -> <HDF5 dataset \"y\": shape (2574, 60, 4), type \"<i8\">\n"
     ]
    }
   ],
   "source": [
    "def print_structure(name, obj):\n",
    "    print(name, \"->\", obj)\n",
    "\n",
    "f.visititems(print_structure)"
   ]
  },
  {
   "cell_type": "code",
   "execution_count": 4,
   "id": "f2d3dd51",
   "metadata": {},
   "outputs": [
    {
     "name": "stdout",
     "output_type": "stream",
     "text": [
      "Shape: (2574, 60, 22)\n",
      "Dtype: float32\n",
      "[[[-2.735244  -1.8932936 -2.5792973 ... -1.1154687 -0.189841  -1.7591136]\n",
      "  [-2.735244  -1.8932936 -2.5792973 ... -1.1154687 -0.189841  -1.7591136]\n",
      "  [-2.735244  -1.8932936 -2.5792973 ... -1.1154687 -0.189841  -1.7591136]\n",
      "  ...\n",
      "  [-2.735244  -1.8932936 -2.5792973 ... -1.1154687 -0.189841  -1.7591136]\n",
      "  [-2.735244  -1.8932936 -2.5792973 ... -1.1154687 -0.189841  -1.7591136]\n",
      "  [-2.735244  -1.8932936 -2.5792973 ... -1.1154687 -0.189841  -1.7591136]]\n",
      "\n",
      " [[-2.735244  -1.8932936 -2.5792973 ... -1.1154687 -0.189841  -1.7591136]\n",
      "  [-2.735244  -1.8932936 -2.5792973 ... -1.1154687 -0.189841  -1.7591136]\n",
      "  [-2.735244  -1.8932936 -2.5792973 ... -1.1154687 -0.189841  -1.7591136]\n",
      "  ...\n",
      "  [-2.735244  -1.8932936 -2.5792973 ... -1.1154687 -0.189841  -1.7591136]\n",
      "  [-2.735244  -1.8932936 -2.5792973 ... -1.1154687 -0.189841  -1.7591136]\n",
      "  [-2.735244  -1.8932936 -2.5792973 ... -1.1154687 -0.189841  -1.7591136]]\n",
      "\n",
      " [[-2.735244  -1.8932936 -2.5792973 ... -1.1154687 -0.189841  -1.7591136]\n",
      "  [-2.735244  -1.8932936 -2.5792973 ... -1.1154687 -0.189841  -1.7591136]\n",
      "  [-2.735244  -1.8932936 -2.5792973 ... -1.1154687 -0.189841  -1.7591136]\n",
      "  ...\n",
      "  [-2.735244  -1.8932936 -2.5792973 ... -1.1154687 -0.189841  -1.7591136]\n",
      "  [-2.735244  -1.8932936 -2.5792973 ... -1.1154687 -0.189841  -1.7591136]\n",
      "  [-2.735244  -1.8932936 -2.5792973 ... -1.1154687 -0.189841  -1.7591136]]\n",
      "\n",
      " [[-2.735244  -1.8932936 -2.5792973 ... -1.1154687 -0.189841  -1.7591136]\n",
      "  [-2.735244  -1.8932936 -2.5792973 ... -1.1154687 -0.189841  -1.7591136]\n",
      "  [-2.735244  -1.8932936 -2.5792973 ... -1.1154687 -0.189841  -1.7591136]\n",
      "  ...\n",
      "  [-2.735244  -1.8932936 -2.5792973 ... -1.1154687 -0.189841  -1.7591136]\n",
      "  [-2.735244  -1.8932936 -2.5792973 ... -1.1154687 -0.189841  -1.7591136]\n",
      "  [-2.735244  -1.8932936 -2.5792973 ... -1.1154687 -0.189841  -1.7591136]]\n",
      "\n",
      " [[-2.735244  -1.8932936 -2.5792973 ... -1.1154687 -0.189841  -1.7591136]\n",
      "  [-2.735244  -1.8932936 -2.5792973 ... -1.1154687 -0.189841  -1.7591136]\n",
      "  [-2.735244  -1.8932936 -2.5792973 ... -1.1154687 -0.189841  -1.7591136]\n",
      "  ...\n",
      "  [-2.735244  -1.8932936 -2.5792973 ... -1.1154687 -0.189841  -1.7591136]\n",
      "  [-2.735244  -1.8932936 -2.5792973 ... -1.1154687 -0.189841  -1.7591136]\n",
      "  [-2.735244  -1.8932936 -2.5792973 ... -1.1154687 -0.189841  -1.7591136]]]\n"
     ]
    }
   ],
   "source": [
    "X = f[\"X\"]\n",
    "print(\"Shape:\", X.shape)\n",
    "print(\"Dtype:\", X.dtype)\n",
    "# Take a small slice \n",
    "sample = X[0:5]\n",
    "print(sample)"
   ]
  },
  {
   "cell_type": "code",
   "execution_count": 5,
   "id": "8769e40b",
   "metadata": {},
   "outputs": [
    {
     "name": "stdout",
     "output_type": "stream",
     "text": [
      "Shape: (2574, 60, 4)\n",
      "Dtype: int64\n",
      "[[[0 0 0 1]\n",
      "  [0 0 0 1]\n",
      "  [0 0 0 1]\n",
      "  [0 0 0 1]\n",
      "  [0 0 0 1]\n",
      "  [0 0 0 1]\n",
      "  [0 0 0 1]\n",
      "  [0 0 0 1]\n",
      "  [0 0 0 1]\n",
      "  [0 0 0 1]\n",
      "  [0 0 0 1]\n",
      "  [0 0 0 1]\n",
      "  [0 0 0 1]\n",
      "  [0 0 0 1]\n",
      "  [0 0 0 1]\n",
      "  [0 0 0 1]\n",
      "  [0 0 0 1]\n",
      "  [0 0 0 1]\n",
      "  [0 0 0 1]\n",
      "  [0 0 0 1]\n",
      "  [0 0 0 1]\n",
      "  [0 0 0 1]\n",
      "  [0 0 0 1]\n",
      "  [0 0 0 1]\n",
      "  [0 0 0 1]\n",
      "  [0 0 0 1]\n",
      "  [0 0 0 1]\n",
      "  [0 0 0 1]\n",
      "  [0 0 0 1]\n",
      "  [0 0 0 1]\n",
      "  [0 0 0 1]\n",
      "  [0 0 0 1]\n",
      "  [0 0 0 1]\n",
      "  [0 0 0 1]\n",
      "  [0 0 0 1]\n",
      "  [0 0 0 1]\n",
      "  [0 0 0 1]\n",
      "  [0 0 0 1]\n",
      "  [0 0 0 1]\n",
      "  [0 0 0 1]\n",
      "  [0 0 0 1]\n",
      "  [0 0 0 1]\n",
      "  [0 0 0 1]\n",
      "  [0 0 0 1]\n",
      "  [0 0 0 1]\n",
      "  [0 0 0 1]\n",
      "  [0 0 0 1]\n",
      "  [0 0 0 1]\n",
      "  [0 0 0 1]\n",
      "  [0 0 0 1]\n",
      "  [0 0 0 1]\n",
      "  [0 0 0 1]\n",
      "  [0 0 0 1]\n",
      "  [0 0 0 1]\n",
      "  [0 0 0 1]\n",
      "  [0 0 0 1]\n",
      "  [0 0 0 1]\n",
      "  [0 0 0 1]\n",
      "  [0 0 0 1]\n",
      "  [0 0 0 1]]]\n"
     ]
    }
   ],
   "source": [
    "y = f[\"y\"]\n",
    "print(\"Shape:\", y.shape)\n",
    "print(\"Dtype:\", y.dtype)\n",
    "\n",
    "sample = y[1:2]\n",
    "print(sample)"
   ]
  },
  {
   "cell_type": "code",
   "execution_count": 6,
   "id": "4786b8d8",
   "metadata": {},
   "outputs": [
    {
     "name": "stdout",
     "output_type": "stream",
     "text": [
      "Shape: (2574, 60)\n",
      "Dtype: bool\n",
      "[[ True  True  True  True  True  True  True  True  True  True  True  True\n",
      "   True  True  True  True  True  True  True  True  True  True  True  True\n",
      "   True  True  True  True  True  True  True  True  True  True  True  True\n",
      "   True  True  True  True  True  True  True  True  True  True  True  True\n",
      "   True  True  True  True  True  True  True  True  True  True  True  True]]\n"
     ]
    }
   ],
   "source": [
    "train_masks = f[\"final_masks\"]\n",
    "print(\"Shape:\", train_masks.shape)\n",
    "print(\"Dtype:\", train_masks.dtype)\n",
    "\n",
    "sample = train_masks[1:2]\n",
    "print(sample)"
   ]
  },
  {
   "cell_type": "code",
   "execution_count": 8,
   "id": "1663dc5d",
   "metadata": {},
   "outputs": [
    {
     "name": "stdout",
     "output_type": "stream",
     "text": [
      "Shape: (2574, 60)\n",
      "Dtype: float64\n",
      "[[   0.   60.  120.  180.  240.  300.  360.  420.  480.  540.  600.  660.\n",
      "   720.  780.  840.  900.  960. 1020. 1080. 1140. 1200. 1260. 1320. 1380.\n",
      "  1440. 1500. 1560. 1620. 1680. 1740. 1800. 1800. 1860. 1860. 1920. 1920.\n",
      "  1980. 1980. 2040. 2040. 2100. 2100. 2160. 2160. 2220. 2220. 2280. 2280.\n",
      "  2340. 2340. 2400. 2400. 2460. 2460. 2520. 2520. 2580. 2580. 2640. 2640.]\n",
      " [   0.   60.  120.  180.  240.  300.  360.  420.  480.  540.  600.  660.\n",
      "   720.  780.  840.  900.  960. 1020. 1080. 1140. 1200. 1260. 1320. 1380.\n",
      "  1440. 1500. 1560. 1620. 1680. 1740. 1800. 1800. 1860. 1860. 1920. 1920.\n",
      "  1980. 1980. 2040. 2040. 2100. 2100. 2160. 2160. 2220. 2220. 2280. 2280.\n",
      "  2340. 2340. 2400. 2400. 2460. 2460. 2520. 2520. 2580. 2580. 2640. 2640.]]\n"
     ]
    }
   ],
   "source": [
    "timestamps = f[\"timestamps\"]\n",
    "print(\"Shape:\", timestamps.shape)\n",
    "print(\"Dtype:\", timestamps.dtype)\n",
    "\n",
    "sample = timestamps[0:2]\n",
    "print(sample)"
   ]
  },
  {
   "cell_type": "code",
   "execution_count": 11,
   "id": "a88ed8d7",
   "metadata": {},
   "outputs": [
    {
     "name": "stdout",
     "output_type": "stream",
     "text": [
      "Shape: (457,)\n",
      "Dtype: object\n",
      "[b'sub-002' b'sub-002' b'sub-002' b'sub-002' b'sub-002']\n"
     ]
    }
   ],
   "source": [
    "subjects = f[\"subjects\"]\n",
    "print(\"Shape:\", subjects.shape)\n",
    "print(\"Dtype:\", subjects.dtype)\n",
    "\n",
    "sample = subjects[0:5]\n",
    "print(sample)"
   ]
  },
  {
   "cell_type": "code",
   "execution_count": 12,
   "id": "93f9cd71",
   "metadata": {},
   "outputs": [
    {
     "name": "stdout",
     "output_type": "stream",
     "text": [
      "Shape: (457,)\n",
      "Dtype: object\n",
      "[b'sub-002_ses-01_task-szMonitoring_run-01_ecg'\n",
      " b'sub-002_ses-01_task-szMonitoring_run-01_ecg'\n",
      " b'sub-002_ses-01_task-szMonitoring_run-01_ecg'\n",
      " b'sub-002_ses-01_task-szMonitoring_run-01_ecg'\n",
      " b'sub-002_ses-01_task-szMonitoring_run-01_ecg']\n"
     ]
    }
   ],
   "source": [
    "recordings = f[\"recordings\"]\n",
    "print(\"Shape:\", recordings.shape)\n",
    "print(\"Dtype:\", recordings.dtype)\n",
    "\n",
    "sample = recordings[0:5]\n",
    "print(sample)"
   ]
  },
  {
   "cell_type": "code",
   "execution_count": null,
   "id": "acb26ece",
   "metadata": {},
   "outputs": [],
   "source": []
  }
 ],
 "metadata": {
  "kernelspec": {
   "display_name": ".venv",
   "language": "python",
   "name": "python3"
  },
  "language_info": {
   "codemirror_mode": {
    "name": "ipython",
    "version": 3
   },
   "file_extension": ".py",
   "mimetype": "text/x-python",
   "name": "python",
   "nbconvert_exporter": "python",
   "pygments_lexer": "ipython3",
   "version": "3.12.2"
  }
 },
 "nbformat": 4,
 "nbformat_minor": 5
}
